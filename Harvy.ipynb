{
 "cells": [
  {
   "cell_type": "markdown",
   "metadata": {},
   "source": [
    "# Intento con Pdfminer.six"
   ]
  },
  {
   "cell_type": "code",
   "execution_count": 37,
   "metadata": {},
   "outputs": [],
   "source": [
    "from pdfminer.high_level import extract_text\n",
    "from pypdf import PdfReader, PdfWriter\n",
    "import fitz\n",
    "import pandas as pd\n",
    "\n",
    "documents={\n",
    "    \"Kasarakuy raymimanta\": (6, 7),\n",
    "    \"Alelipa munaqusqan waqaychanankuna. Historias y Relatos 5 - Inicial - Quechua Collao\": (4, 3),\n",
    "    \"Ayllunchikpa willakuyninkuna. Historias y relatos 2 - Inicial - Quechua Collao\": (4, 3),\n",
    "    \"Liqichumanta. Historias y relatos 1 - Inicial - Quechua Collao\": (4, 3),\n",
    "    \"Muhu papa rikch’arichiymanta. Historias y relatos 3 - Inicial - Quechua Collao\":  (4, 3),\n",
    "    \"Papa allay. Historias y Relatos 4 - Inicial - Quechua Collao\":  (4, 3),\n",
    "    \"1 Rimana. Qichwa - Qullawpi llamk'ana mayt'u. Cuaderno de trabajo - Comunicación 1° - Quechua Collao\": (6, 65),\n",
    "    # \"2 Rimana - Qillqasqa Mayt’u Qichwa Qullaw. Texto de Comunicación del 2° Secundaria - Quechua Collao\": (6, 3),\n",
    "    \"3 Rimana - Qillqasqa Mayt’u Qichwa Qullaw. Texto de Comunicación del 3° Secundaria - Quechua Collao\": (6, 3),\n",
    "    \"4 Rimana - Qillqasqa Mayt’u Qichwa Qullaw. Texto de Comunicación del 4° Secundaria - Quechua Collao\": (6, 3),\n",
    "    \"5 Rimana - Qillqasqa Mayt’u Qichwa Qullaw. Texto de Comunicación del 5° Secundaria - Quechua Collao\": (6, 3),\n",
    "}"
   ]
  },
  {
   "cell_type": "code",
   "execution_count": 2,
   "metadata": {},
   "outputs": [],
   "source": [
    "import re\n",
    "\n",
    "\n",
    "def get_text_from_pdf(key):\n",
    "    doc = fitz.open(f'data/{key}.pdf')\n",
    "    number_of_pages = doc.page_count\n",
    "\n",
    "    i=documents[key][0]\n",
    "    full_text=\"\"\n",
    "    for page in doc.pages(documents[key][0], number_of_pages-documents[key][1]):\n",
    "        # print(\"Page number: \", i)\n",
    "        this_page_text=page.get_text(\"text\", sort=True).replace(\"\\n\", \" \")\n",
    "        this_page_text=re.sub(r'\\d+', '', this_page_text)\n",
    "        full_text+=this_page_text+\" \"\n",
    "        i+=1\n",
    "    return full_text"
   ]
  },
  {
   "cell_type": "code",
   "execution_count": 26,
   "metadata": {},
   "outputs": [],
   "source": [
    "from nltk.tokenize import sent_tokenize\n",
    "from langdetect import detect\n",
    "import langid\n",
    "\n",
    "def filtrar_espaniol(full_text):\n",
    "    sentences = sent_tokenize(full_text)\n",
    "    non_spanish_sentences = []\n",
    "\n",
    "    \n",
    "    for sentence in sentences:\n",
    "        try:\n",
    "            languages=[]\n",
    "            languages.append(detect(sentence))\n",
    "            languages.append(langid.classify(sentence)[0])\n",
    "            if not any(lang in languages for lang in [\"es\", \"it\", \"ca\", \"pt\"]):\n",
    "                non_spanish_sentences.append(sentence)\n",
    "        except:\n",
    "            pass\n",
    "\n",
    "    sentences = non_spanish_sentences\n",
    "    \n",
    "\n",
    "    return sentences\n",
    "\n",
    "def filtrar_oracion_espaniol(sentence):\n",
    "    try:\n",
    "        languages=[]\n",
    "        languages.append(detect(sentence))\n",
    "        languages.append(langid.classify(sentence)[0])\n",
    "        if not any(lang in languages for lang in [\"es\", \"it\", \"ca\", \"pt\"]):\n",
    "            return True\n",
    "    except:\n",
    "        pass\n",
    "\n",
    "    return False"
   ]
  },
  {
   "cell_type": "code",
   "execution_count": 4,
   "metadata": {},
   "outputs": [],
   "source": [
    "#Funciones de filtrado\n",
    "alfabeto_quechua = ['a', 'aa', 'ch', 'chh', 'ch\\'', 'ts', 'tr', 'h', 'i', 'ii', 'k', 'kh', 'k\\'', 'l', 'll', 'm', 'n', 'ñ', 'p', 'ph', 'p\\'', 'q', 'qh', 'q\\'', 'r', 's', 'sh', 't', 'th', 't\\'', 'u', 'uu', 'w', 'y']\n",
    "\n",
    "def grafemas_no_en_alfabet(words):\n",
    "    for word in words:\n",
    "        for i, letter in enumerate(word):\n",
    "            #Continue  if letter is not a letter\n",
    "            if not letter.isalpha():\n",
    "                continue\n",
    "            if letter.lower() not in alfabeto_quechua:\n",
    "                #Chequear siguiente letra\n",
    "                if i+1 >= len(word):\n",
    "                    return False\n",
    "                letter = letter + word[i+1]\n",
    "                if letter.lower() not in alfabeto_quechua:\n",
    "                    if i+2 >= len(word):\n",
    "                        return False\n",
    "                    #Chequear siguiente letra\n",
    "                    letter = letter + word[i+2]\n",
    "                    if letter.lower() not in alfabeto_quechua:\n",
    "                        return False\n",
    "    return True\n",
    "\n",
    "def oraciones_mucho_espaniol(words):\n",
    "    spanish_words = 0\n",
    "    for word in words:\n",
    "        try:\n",
    "            if detect(word) == 'es':\n",
    "                spanish_words += 1\n",
    "        except:\n",
    "            pass\n",
    "    return spanish_words/len(words) > 0.5\n",
    "\n",
    "def oraciones_muy_cortas(words, min_length=3):\n",
    "    #Conservar solo palabras que no sean puntuación\n",
    "    aux = [word for word in words if word.isalpha()]\n",
    "    return len(aux) > min_length\n",
    "\n",
    "def oraciones_muy_repititivas(words, threshold=0.4):\n",
    "    unique_words = set(words)\n",
    "    ratio = len(unique_words) / len(words)\n",
    "    return ratio >= threshold\n",
    "\n",
    "def palabras_muy_largas(words, threshold=40):\n",
    "    for word in words:\n",
    "        if len(word) > threshold:\n",
    "            return False\n",
    "    return True\n",
    "\n",
    "def split_tokens(sentence):\n",
    "    # Check for three or more sequential tokens composed of one or two characters\n",
    "    if re.search(r\"(\\b\\w{1,2}\\b\\s){3,}\", sentence):\n",
    "        return False\n",
    "    return True\n",
    "\n",
    "def oraciones_con_matematica(sentence):\n",
    "    if re.search(r\"[\\d+\\-*/]+\", sentence):\n",
    "        return False\n",
    "    return True"
   ]
  },
  {
   "cell_type": "code",
   "execution_count": 5,
   "metadata": {},
   "outputs": [],
   "source": [
    "#a, aa, ch, chh, ch', ts, tr, h, i, ii, k, kh, k', l, ll, m, n, ñ, p, ph, p', q, qh, q', r, s, sh, t, th, t', u, uu, w, y\n",
    "from nltk.tokenize import word_tokenize\n",
    "# Reglas basadas en https://aclanthology.org/2020.lrec-1.356/\n",
    "def rule_based_heuristic(sentence):\n",
    "    words = word_tokenize(sentence)\n",
    "    \n",
    "    valid = oraciones_muy_cortas(words) \n",
    "    valid = valid and oraciones_muy_repititivas(words)\n",
    "    valid = valid and palabras_muy_largas(words)\n",
    "    valid = valid and split_tokens(sentence)\n",
    "    valid = valid and oraciones_con_matematica(sentence)\n",
    "\n",
    "    return valid"
   ]
  },
  {
   "cell_type": "code",
   "execution_count": 33,
   "metadata": {},
   "outputs": [],
   "source": [
    "def pipeline(documents):\n",
    "    corpus=pd.DataFrame(columns=[\"document\", \"sentence\"])\n",
    "    for key, value in documents.items():\n",
    "        text=get_text_from_pdf(key)\n",
    "        sentences=sent_tokenize(text)\n",
    "        #Oraciones antes de filtrar\n",
    "        print(\"Oraciones antes de filtrar en documento \", key, \": \", len(sentences))\n",
    "        filtered_sentences=[]\n",
    "        for sentence in sentences:\n",
    "            if rule_based_heuristic(sentence) and filtrar_oracion_espaniol(sentence):\n",
    "                filtered_sentences.append(sentence)\n",
    "        \n",
    "        df=pd.DataFrame(filtered_sentences, columns=[\"sentence\"])\n",
    "        df[\"document\"]=key\n",
    "        #Quitar duplicados\n",
    "        df.drop_duplicates(subset=\"sentence\", inplace=True)\n",
    "        print(\"Oraciones después de filtrar en documento \", key, \": \", len(df))\n",
    "        corpus=pd.concat([corpus, df], ignore_index=True)\n",
    "    print(\"Total de oraciones: \", len(corpus))\n",
    "    corpus.drop_duplicates(subset=\"sentence\", inplace=True)\n",
    "    print(\"Total de oraciones únicas: \", len(corpus))\n",
    "    return corpus"
   ]
  },
  {
   "cell_type": "code",
   "execution_count": 34,
   "metadata": {},
   "outputs": [
    {
     "name": "stdout",
     "output_type": "stream",
     "text": [
      "Oraciones antes de filtrar en documento  Kasarakuy raymimanta :  1115\n",
      "Oraciones después de filtrar en documento  Kasarakuy raymimanta :  462\n",
      "Oraciones antes de filtrar en documento  Alelipa munaqusqan waqaychanankuna. Historias y Relatos 5 - Inicial - Quechua Collao :  26\n",
      "Oraciones después de filtrar en documento  Alelipa munaqusqan waqaychanankuna. Historias y Relatos 5 - Inicial - Quechua Collao :  20\n",
      "Oraciones antes de filtrar en documento  Ayllunchikpa willakuyninkuna. Historias y relatos 2 - Inicial - Quechua Collao :  58\n",
      "Oraciones después de filtrar en documento  Ayllunchikpa willakuyninkuna. Historias y relatos 2 - Inicial - Quechua Collao :  47\n",
      "Oraciones antes de filtrar en documento  Liqichumanta. Historias y relatos 1 - Inicial - Quechua Collao :  14\n",
      "Oraciones después de filtrar en documento  Liqichumanta. Historias y relatos 1 - Inicial - Quechua Collao :  10\n",
      "Oraciones antes de filtrar en documento  Muhu papa rikch’arichiymanta. Historias y relatos 3 - Inicial - Quechua Collao :  11\n",
      "Oraciones después de filtrar en documento  Muhu papa rikch’arichiymanta. Historias y relatos 3 - Inicial - Quechua Collao :  9\n",
      "Oraciones antes de filtrar en documento  Papa allay. Historias y Relatos 4 - Inicial - Quechua Collao :  10\n",
      "Oraciones después de filtrar en documento  Papa allay. Historias y Relatos 4 - Inicial - Quechua Collao :  10\n",
      "Oraciones antes de filtrar en documento  1 Rimana. Qichwa - Qullawpi llamk'ana mayt'u. Cuaderno de trabajo - Comunicación 1° - Quechua Collao :  2244\n",
      "Oraciones después de filtrar en documento  1 Rimana. Qichwa - Qullawpi llamk'ana mayt'u. Cuaderno de trabajo - Comunicación 1° - Quechua Collao :  1260\n",
      "Oraciones antes de filtrar en documento  2 Rimana - Qillqasqa Mayt’u Qichwa Qullaw. Texto de Comunicación del 2° Secundaria - Quechua Collao :  1489\n",
      "Oraciones después de filtrar en documento  2 Rimana - Qillqasqa Mayt’u Qichwa Qullaw. Texto de Comunicación del 2° Secundaria - Quechua Collao :  845\n",
      "Oraciones antes de filtrar en documento  3 Rimana - Qillqasqa Mayt’u Qichwa Qullaw. Texto de Comunicación del 3° Secundaria - Quechua Collao :  1292\n",
      "Oraciones después de filtrar en documento  3 Rimana - Qillqasqa Mayt’u Qichwa Qullaw. Texto de Comunicación del 3° Secundaria - Quechua Collao :  709\n",
      "Oraciones antes de filtrar en documento  4 Rimana - Qillqasqa Mayt’u Qichwa Qullaw. Texto de Comunicación del 4° Secundaria - Quechua Collao :  1391\n",
      "Oraciones después de filtrar en documento  4 Rimana - Qillqasqa Mayt’u Qichwa Qullaw. Texto de Comunicación del 4° Secundaria - Quechua Collao :  767\n",
      "Oraciones antes de filtrar en documento  5 Rimana - Qillqasqa Mayt’u Qichwa Qullaw. Texto de Comunicación del 5° Secundaria - Quechua Collao :  1433\n",
      "Oraciones después de filtrar en documento  5 Rimana - Qillqasqa Mayt’u Qichwa Qullaw. Texto de Comunicación del 5° Secundaria - Quechua Collao :  751\n",
      "Total de oraciones:  4890\n",
      "Total de oraciones únicas:  4855\n"
     ]
    },
    {
     "data": {
      "text/html": [
       "<div>\n",
       "<style scoped>\n",
       "    .dataframe tbody tr th:only-of-type {\n",
       "        vertical-align: middle;\n",
       "    }\n",
       "\n",
       "    .dataframe tbody tr th {\n",
       "        vertical-align: top;\n",
       "    }\n",
       "\n",
       "    .dataframe thead th {\n",
       "        text-align: right;\n",
       "    }\n",
       "</style>\n",
       "<table border=\"1\" class=\"dataframe\">\n",
       "  <thead>\n",
       "    <tr style=\"text-align: right;\">\n",
       "      <th></th>\n",
       "      <th>document</th>\n",
       "      <th>sentence</th>\n",
       "    </tr>\n",
       "  </thead>\n",
       "  <tbody>\n",
       "    <tr>\n",
       "      <th>0</th>\n",
       "      <td>Kasarakuy raymimanta</td>\n",
       "      <td>Kasarakuy runachakuymanta  Kasarakuy runachaku...</td>\n",
       "    </tr>\n",
       "    <tr>\n",
       "      <th>1</th>\n",
       "      <td>Kasarakuy raymimanta</td>\n",
       "      <td>Imaraykuchus kawsaynin ukhupi uywakuna  chharq...</td>\n",
       "    </tr>\n",
       "    <tr>\n",
       "      <th>2</th>\n",
       "      <td>Kasarakuy raymimanta</td>\n",
       "      <td>Uywasqam uywakuna imayna  mirasqanta ima allin...</td>\n",
       "    </tr>\n",
       "    <tr>\n",
       "      <th>3</th>\n",
       "      <td>Kasarakuy raymimanta</td>\n",
       "      <td>Chaymanhina, ayllu irqikunap yuyayninpiqa,  im...</td>\n",
       "    </tr>\n",
       "    <tr>\n",
       "      <th>4</th>\n",
       "      <td>Kasarakuy raymimanta</td>\n",
       "      <td>Chaymantapas ayllu irqiqa munasqantam ruran, i...</td>\n",
       "    </tr>\n",
       "  </tbody>\n",
       "</table>\n",
       "</div>"
      ],
      "text/plain": [
       "               document                                           sentence\n",
       "0  Kasarakuy raymimanta  Kasarakuy runachakuymanta  Kasarakuy runachaku...\n",
       "1  Kasarakuy raymimanta  Imaraykuchus kawsaynin ukhupi uywakuna  chharq...\n",
       "2  Kasarakuy raymimanta  Uywasqam uywakuna imayna  mirasqanta ima allin...\n",
       "3  Kasarakuy raymimanta  Chaymanhina, ayllu irqikunap yuyayninpiqa,  im...\n",
       "4  Kasarakuy raymimanta  Chaymantapas ayllu irqiqa munasqantam ruran, i..."
      ]
     },
     "execution_count": 34,
     "metadata": {},
     "output_type": "execute_result"
    }
   ],
   "source": [
    "df_corpus=pipeline(documents)\n",
    "df_corpus.head()"
   ]
  },
  {
   "cell_type": "code",
   "execution_count": 35,
   "metadata": {},
   "outputs": [
    {
     "data": {
      "text/html": [
       "<div>\n",
       "<style scoped>\n",
       "    .dataframe tbody tr th:only-of-type {\n",
       "        vertical-align: middle;\n",
       "    }\n",
       "\n",
       "    .dataframe tbody tr th {\n",
       "        vertical-align: top;\n",
       "    }\n",
       "\n",
       "    .dataframe thead th {\n",
       "        text-align: right;\n",
       "    }\n",
       "</style>\n",
       "<table border=\"1\" class=\"dataframe\">\n",
       "  <thead>\n",
       "    <tr style=\"text-align: right;\">\n",
       "      <th></th>\n",
       "      <th>document</th>\n",
       "      <th>sentence</th>\n",
       "    </tr>\n",
       "  </thead>\n",
       "  <tbody>\n",
       "    <tr>\n",
       "      <th>17</th>\n",
       "      <td>Kasarakuy raymimanta</td>\n",
       "      <td>Sipaspa uywan michinan patapi.</td>\n",
       "    </tr>\n",
       "    <tr>\n",
       "      <th>36</th>\n",
       "      <td>Kasarakuy raymimanta</td>\n",
       "      <td>Sumaqta tapurispa  makiwan chaskichin.</td>\n",
       "    </tr>\n",
       "    <tr>\n",
       "      <th>45</th>\n",
       "      <td>Kasarakuy raymimanta</td>\n",
       "      <td>Huk chakrayuq runakuna  qhawananpaq.</td>\n",
       "    </tr>\n",
       "    <tr>\n",
       "      <th>53</th>\n",
       "      <td>Kasarakuy raymimanta</td>\n",
       "      <td>Chaypi  tuta paqariqta tusumunku.</td>\n",
       "    </tr>\n",
       "    <tr>\n",
       "      <th>86</th>\n",
       "      <td>Kasarakuy raymimanta</td>\n",
       "      <td>Iskay ñiqin watukuq puriy.</td>\n",
       "    </tr>\n",
       "    <tr>\n",
       "      <th>...</th>\n",
       "      <td>...</td>\n",
       "      <td>...</td>\n",
       "    </tr>\n",
       "    <tr>\n",
       "      <th>4840</th>\n",
       "      <td>5 Rimana - Qillqasqa Mayt’u Qichwa Qullaw. Tex...</td>\n",
       "      <td>¿Ch’askamanta takiy ima nichkantaq?</td>\n",
       "    </tr>\n",
       "    <tr>\n",
       "      <th>4877</th>\n",
       "      <td>5 Rimana - Qillqasqa Mayt’u Qichwa Qullaw. Tex...</td>\n",
       "      <td>Chayta qillqana mayt’upi qillqaykunki.</td>\n",
       "    </tr>\n",
       "    <tr>\n",
       "      <th>4883</th>\n",
       "      <td>5 Rimana - Qillqasqa Mayt’u Qichwa Qullaw. Tex...</td>\n",
       "      <td>T’iktu: Dibujo Usnu: Altar.</td>\n",
       "    </tr>\n",
       "    <tr>\n",
       "      <th>4885</th>\n",
       "      <td>5 Rimana - Qillqasqa Mayt’u Qichwa Qullaw. Tex...</td>\n",
       "      <td>Chumpillikuy:  Envuelve con faja.</td>\n",
       "    </tr>\n",
       "    <tr>\n",
       "      <th>4887</th>\n",
       "      <td>5 Rimana - Qillqasqa Mayt’u Qichwa Qullaw. Tex...</td>\n",
       "      <td>Qillqasqa t’aqa:  Párrafo.</td>\n",
       "    </tr>\n",
       "  </tbody>\n",
       "</table>\n",
       "<p>305 rows × 2 columns</p>\n",
       "</div>"
      ],
      "text/plain": [
       "                                               document  \\\n",
       "17                                 Kasarakuy raymimanta   \n",
       "36                                 Kasarakuy raymimanta   \n",
       "45                                 Kasarakuy raymimanta   \n",
       "53                                 Kasarakuy raymimanta   \n",
       "86                                 Kasarakuy raymimanta   \n",
       "...                                                 ...   \n",
       "4840  5 Rimana - Qillqasqa Mayt’u Qichwa Qullaw. Tex...   \n",
       "4877  5 Rimana - Qillqasqa Mayt’u Qichwa Qullaw. Tex...   \n",
       "4883  5 Rimana - Qillqasqa Mayt’u Qichwa Qullaw. Tex...   \n",
       "4885  5 Rimana - Qillqasqa Mayt’u Qichwa Qullaw. Tex...   \n",
       "4887  5 Rimana - Qillqasqa Mayt’u Qichwa Qullaw. Tex...   \n",
       "\n",
       "                                    sentence  \n",
       "17            Sipaspa uywan michinan patapi.  \n",
       "36    Sumaqta tapurispa  makiwan chaskichin.  \n",
       "45      Huk chakrayuq runakuna  qhawananpaq.  \n",
       "53         Chaypi  tuta paqariqta tusumunku.  \n",
       "86                Iskay ñiqin watukuq puriy.  \n",
       "...                                      ...  \n",
       "4840     ¿Ch’askamanta takiy ima nichkantaq?  \n",
       "4877  Chayta qillqana mayt’upi qillqaykunki.  \n",
       "4883             T’iktu: Dibujo Usnu: Altar.  \n",
       "4885       Chumpillikuy:  Envuelve con faja.  \n",
       "4887              Qillqasqa t’aqa:  Párrafo.  \n",
       "\n",
       "[305 rows x 2 columns]"
      ]
     },
     "execution_count": 35,
     "metadata": {},
     "output_type": "execute_result"
    }
   ],
   "source": [
    "#Show me the sortest sentences  content\n",
    "df_corpus.loc[df_corpus[\"sentence\"].apply(lambda x: len(x))<40]"
   ]
  },
  {
   "cell_type": "code",
   "execution_count": 42,
   "metadata": {},
   "outputs": [],
   "source": [
    "df_corpus.to_csv(\"data/corpus/avanceHarvy.csv\", index=False)"
   ]
  },
  {
   "cell_type": "markdown",
   "metadata": {},
   "source": [
    "# Intento fallido con pypdf"
   ]
  },
  {
   "cell_type": "code",
   "execution_count": 9,
   "metadata": {},
   "outputs": [],
   "source": [
    "from pypdf import PdfReader, PdfWriter"
   ]
  },
  {
   "cell_type": "code",
   "execution_count": 10,
   "metadata": {},
   "outputs": [],
   "source": [
    "#Las páginas iniciales y finales de los documentos que se quieren eliminar\n",
    "documents={\n",
    "    \"Kasarakuy raymimanta\": (6, 7)\n",
    "}"
   ]
  },
  {
   "cell_type": "code",
   "execution_count": 11,
   "metadata": {},
   "outputs": [
    {
     "name": "stdout",
     "output_type": "stream",
     "text": [
      "Number of pages: 92\n"
     ]
    }
   ],
   "source": [
    "\n",
    "for key in documents:\n",
    "    reader = PdfReader(f'data/{key}.pdf')\n",
    "    number_of_pages = len(reader.pages)\n",
    "    print(f'Number of pages: {number_of_pages}')\n",
    "\n",
    "    #Eliminar las páginas iniciales y finales\n",
    "    writer = PdfWriter()\n",
    "\n",
    "    for page in reader.pages[documents[key][0]:-documents[key][1]]:\n",
    "        writer.add_page(page)\n"
   ]
  },
  {
   "cell_type": "code",
   "execution_count": 12,
   "metadata": {},
   "outputs": [],
   "source": [
    "page=writer.pages[0]"
   ]
  },
  {
   "cell_type": "code",
   "execution_count": 13,
   "metadata": {},
   "outputs": [],
   "source": [
    "def visitor_body(text, cm, tm, font_dict, font_size):\n",
    "    curr_font_size = font_size\n",
    "    print(f'{text} {curr_font_size} {font_size}')"
   ]
  },
  {
   "cell_type": "code",
   "execution_count": 14,
   "metadata": {},
   "outputs": [
    {
     "data": {
      "text/plain": [
       "'Kasarakuy runachakuymanta \\nmunanakuy willakuy\\nAyllu irqikunaqa huch’uyninmanta rikunku imaynatas kay pachapi tukuy \\nuywapas masachakunku chayta. Imaraykuchus kawsaynin ukhupi uywakuna \\nchharqukusqanta, wachasqanta ima rikunku. Uywasqam uywakuna imayna \\nmirasqanta ima allinta yachanku. Chaymanhina, ayllu irqikunap yuyayninpiqa, \\nimaynatam warmi qharipas masachakun chaytapas yachankum.\\n5\\nKasarakuy runachakuymanta \\nKasarakuy runachakuymanta \\nAprendizajes del buen vivir para el matrimonio.\\nLos niños y niñas en los andes, en su vida diaria y desde pequeños, ven cómo los animales que crian \\nen la familia nacen o se reproducen. Igualmente, saben cómo un hombre y una mujer joven llegan al \\nmatrimonio.\\n'"
      ]
     },
     "execution_count": 14,
     "metadata": {},
     "output_type": "execute_result"
    }
   ],
   "source": [
    "page.extract_text()"
   ]
  }
 ],
 "metadata": {
  "kernelspec": {
   "display_name": "Python 3",
   "language": "python",
   "name": "python3"
  },
  "language_info": {
   "codemirror_mode": {
    "name": "ipython",
    "version": 3
   },
   "file_extension": ".py",
   "mimetype": "text/x-python",
   "name": "python",
   "nbconvert_exporter": "python",
   "pygments_lexer": "ipython3",
   "version": "3.11.9"
  }
 },
 "nbformat": 4,
 "nbformat_minor": 2
}
