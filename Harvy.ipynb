{
 "cells": [
  {
   "cell_type": "code",
   "execution_count": 10,
   "metadata": {},
   "outputs": [],
   "source": [
    "from pypdf import PdfReader, PdfWriter"
   ]
  },
  {
   "cell_type": "code",
   "execution_count": 13,
   "metadata": {},
   "outputs": [],
   "source": [
    "#Las páginas iniciales y finales de los documentos que se quieren eliminar\n",
    "remove_pages={\n",
    "    \"Kasarakuy raymimanta\": (6, 7)\n",
    "}"
   ]
  },
  {
   "cell_type": "code",
   "execution_count": 18,
   "metadata": {},
   "outputs": [
    {
     "name": "stdout",
     "output_type": "stream",
     "text": [
      "Number of pages: 92\n"
     ]
    }
   ],
   "source": [
    "\n",
    "for key in remove_pages:\n",
    "    reader = PdfReader(f'data/{key}.pdf')\n",
    "    number_of_pages = len(reader.pages)\n",
    "    print(f'Number of pages: {number_of_pages}')\n",
    "\n",
    "    #Eliminar las páginas iniciales y finales\n",
    "    writer = PdfWriter()\n",
    "\n",
    "    for page in reader.pages[remove_pages[key][0]:-remove_pages[key][1]]:\n",
    "        writer.add_page(page)\n"
   ]
  },
  {
   "cell_type": "code",
   "execution_count": 20,
   "metadata": {},
   "outputs": [],
   "source": [
    "page=writer.pages[0]"
   ]
  },
  {
   "cell_type": "code",
   "execution_count": 21,
   "metadata": {},
   "outputs": [
    {
     "data": {
      "text/plain": [
       "'Kasarakuy runachakuymanta \\nmunanakuy willakuy\\nAyllu irqikunaqa huch’uyninmanta rikunku imaynatas kay pachapi tukuy \\nuywapas masachakunku chayta. Imaraykuchus kawsaynin ukhupi uywakuna \\nchharqukusqanta, wachasqanta ima rikunku. Uywasqam uywakuna imayna \\nmirasqanta ima allinta yachanku. Chaymanhina, ayllu irqikunap yuyayninpiqa, \\nimaynatam warmi qharipas masachakun chaytapas yachankum.\\n5\\nKasarakuy runachakuymanta \\nKasarakuy runachakuymanta \\nAprendizajes del buen vivir para el matrimonio.\\nLos niños y niñas en los andes, en su vida diaria y desde pequeños, ven cómo los animales que crian \\nen la familia nacen o se reproducen. Igualmente, saben cómo un hombre y una mujer joven llegan al \\nmatrimonio.\\n'"
      ]
     },
     "execution_count": 21,
     "metadata": {},
     "output_type": "execute_result"
    }
   ],
   "source": [
    "page.extract_text()"
   ]
  }
 ],
 "metadata": {
  "kernelspec": {
   "display_name": "Python 3",
   "language": "python",
   "name": "python3"
  },
  "language_info": {
   "codemirror_mode": {
    "name": "ipython",
    "version": 3
   },
   "file_extension": ".py",
   "mimetype": "text/x-python",
   "name": "python",
   "nbconvert_exporter": "python",
   "pygments_lexer": "ipython3",
   "version": "3.11.9"
  }
 },
 "nbformat": 4,
 "nbformat_minor": 2
}
